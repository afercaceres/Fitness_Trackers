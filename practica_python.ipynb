{
 "cells": [
  {
   "cell_type": "markdown",
   "metadata": {},
   "source": [
    "# Fitness Trackers"
   ]
  },
  {
   "cell_type": "markdown",
   "metadata": {},
   "source": [
    "### 1. Uno de los primeros pasos para realizar un buen análisis de datos es familiarizarnos con los datos que contiene el fichero a analizar. Para ello, calcularemos los estadísticos descriptivos elementales de las variables del fichero. Una vez cargados los datos en nuestro programa Python (utilizando la librería Pandas), calcula los siguientes valores para cada una de las variables:"
   ]
  },
  {
   "cell_type": "code",
   "execution_count": 23,
   "metadata": {},
   "outputs": [
    {
     "data": {
      "text/html": [
       "<div>\n",
       "<style scoped>\n",
       "    .dataframe tbody tr th:only-of-type {\n",
       "        vertical-align: middle;\n",
       "    }\n",
       "\n",
       "    .dataframe tbody tr th {\n",
       "        vertical-align: top;\n",
       "    }\n",
       "\n",
       "    .dataframe thead th {\n",
       "        text-align: right;\n",
       "    }\n",
       "</style>\n",
       "<table border=\"1\" class=\"dataframe\">\n",
       "  <thead>\n",
       "    <tr style=\"text-align: right;\">\n",
       "      <th></th>\n",
       "      <th>Brand Name</th>\n",
       "      <th>Device Type</th>\n",
       "      <th>Model Name</th>\n",
       "      <th>Color</th>\n",
       "      <th>Selling Price</th>\n",
       "      <th>Original Price</th>\n",
       "      <th>Display</th>\n",
       "      <th>Rating (Out of 5)</th>\n",
       "      <th>Strap Material</th>\n",
       "      <th>Average Battery Life (in days)</th>\n",
       "      <th>Reviews</th>\n",
       "    </tr>\n",
       "  </thead>\n",
       "  <tbody>\n",
       "    <tr>\n",
       "      <th>0</th>\n",
       "      <td>Xiaomi</td>\n",
       "      <td>FitnessBand</td>\n",
       "      <td>Smart Band 5</td>\n",
       "      <td>Black</td>\n",
       "      <td>2,499</td>\n",
       "      <td>2,999</td>\n",
       "      <td>AMOLED Display</td>\n",
       "      <td>4.1</td>\n",
       "      <td>Thermoplastic polyurethane</td>\n",
       "      <td>14</td>\n",
       "      <td>NaN</td>\n",
       "    </tr>\n",
       "    <tr>\n",
       "      <th>1</th>\n",
       "      <td>Xiaomi</td>\n",
       "      <td>FitnessBand</td>\n",
       "      <td>Smart Band 4</td>\n",
       "      <td>Black</td>\n",
       "      <td>2,099</td>\n",
       "      <td>2,499</td>\n",
       "      <td>AMOLED Display</td>\n",
       "      <td>4.2</td>\n",
       "      <td>Thermoplastic polyurethane</td>\n",
       "      <td>14</td>\n",
       "      <td>NaN</td>\n",
       "    </tr>\n",
       "    <tr>\n",
       "      <th>2</th>\n",
       "      <td>Xiaomi</td>\n",
       "      <td>FitnessBand</td>\n",
       "      <td>HMSH01GE</td>\n",
       "      <td>Black</td>\n",
       "      <td>1,722</td>\n",
       "      <td>2,099</td>\n",
       "      <td>LCD Display</td>\n",
       "      <td>3.5</td>\n",
       "      <td>Leather</td>\n",
       "      <td>14</td>\n",
       "      <td>NaN</td>\n",
       "    </tr>\n",
       "    <tr>\n",
       "      <th>3</th>\n",
       "      <td>Xiaomi</td>\n",
       "      <td>FitnessBand</td>\n",
       "      <td>Smart Band 5</td>\n",
       "      <td>Black</td>\n",
       "      <td>2,469</td>\n",
       "      <td>2,999</td>\n",
       "      <td>AMOLED Display</td>\n",
       "      <td>4.1</td>\n",
       "      <td>Thermoplastic polyurethane</td>\n",
       "      <td>14</td>\n",
       "      <td>NaN</td>\n",
       "    </tr>\n",
       "    <tr>\n",
       "      <th>4</th>\n",
       "      <td>Xiaomi</td>\n",
       "      <td>FitnessBand</td>\n",
       "      <td>Band 3</td>\n",
       "      <td>Black</td>\n",
       "      <td>1,799</td>\n",
       "      <td>2,199</td>\n",
       "      <td>OLED Display</td>\n",
       "      <td>4.3</td>\n",
       "      <td>Plastic</td>\n",
       "      <td>7</td>\n",
       "      <td>NaN</td>\n",
       "    </tr>\n",
       "  </tbody>\n",
       "</table>\n",
       "</div>"
      ],
      "text/plain": [
       "  Brand Name  Device Type    Model Name  Color Selling Price Original Price  \\\n",
       "0     Xiaomi  FitnessBand  Smart Band 5  Black         2,499          2,999   \n",
       "1     Xiaomi  FitnessBand  Smart Band 4  Black         2,099          2,499   \n",
       "2     Xiaomi  FitnessBand      HMSH01GE  Black         1,722          2,099   \n",
       "3     Xiaomi  FitnessBand  Smart Band 5  Black         2,469          2,999   \n",
       "4     Xiaomi  FitnessBand        Band 3  Black         1,799          2,199   \n",
       "\n",
       "          Display  Rating (Out of 5)              Strap Material  \\\n",
       "0  AMOLED Display                4.1  Thermoplastic polyurethane   \n",
       "1  AMOLED Display                4.2  Thermoplastic polyurethane   \n",
       "2     LCD Display                3.5                     Leather   \n",
       "3  AMOLED Display                4.1  Thermoplastic polyurethane   \n",
       "4    OLED Display                4.3                     Plastic   \n",
       "\n",
       "   Average Battery Life (in days) Reviews  \n",
       "0                              14     NaN  \n",
       "1                              14     NaN  \n",
       "2                              14     NaN  \n",
       "3                              14     NaN  \n",
       "4                               7     NaN  "
      ]
     },
     "execution_count": 23,
     "metadata": {},
     "output_type": "execute_result"
    }
   ],
   "source": [
    "import math\n",
    "import pandas as pd\n",
    "\n",
    "datos = pd.read_csv(\"Fitness_trackers.csv\")\n",
    "datos.head()"
   ]
  },
  {
   "cell_type": "markdown",
   "metadata": {},
   "source": [
    "#### 1.1 Número de muestras (valores distintos de missing):"
   ]
  },
  {
   "cell_type": "code",
   "execution_count": 24,
   "metadata": {},
   "outputs": [
    {
     "data": {
      "text/plain": [
       "[['Brand Name', 565],\n",
       " ['Device Type', 565],\n",
       " ['Model Name', 565],\n",
       " ['Color', 565],\n",
       " ['Selling Price', 565],\n",
       " ['Original Price', 565],\n",
       " ['Display', 565],\n",
       " ['Rating (Out of 5)', 514],\n",
       " ['Strap Material', 565],\n",
       " ['Average Battery Life (in days)', 565],\n",
       " ['Reviews', 78]]"
      ]
     },
     "execution_count": 24,
     "metadata": {},
     "output_type": "execute_result"
    }
   ],
   "source": [
    "nMuestras = []\n",
    "for column in datos.columns:\n",
    "    nMuestras.append([column, len(datos[column].dropna())])\n",
    "nMuestras"
   ]
  },
  {
   "cell_type": "markdown",
   "metadata": {},
   "source": [
    "Se comprueba que **Rating (Out of 5)** y **Reviews** tienen valores _missing_."
   ]
  },
  {
   "cell_type": "markdown",
   "metadata": {},
   "source": [
    "#### 1.2 y 1.3 Media, desviación estándar, mínimo y máximo de aquellas variables en las que tenga sentido (numéricas):"
   ]
  },
  {
   "cell_type": "code",
   "execution_count": 25,
   "metadata": {},
   "outputs": [
    {
     "data": {
      "text/plain": [
       "Brand Name                         object\n",
       "Device Type                        object\n",
       "Model Name                         object\n",
       "Color                              object\n",
       "Selling Price                      object\n",
       "Original Price                     object\n",
       "Display                            object\n",
       "Rating (Out of 5)                 float64\n",
       "Strap Material                     object\n",
       "Average Battery Life (in days)      int64\n",
       "Reviews                            object\n",
       "dtype: object"
      ]
     },
     "execution_count": 25,
     "metadata": {},
     "output_type": "execute_result"
    }
   ],
   "source": [
    "datos.dtypes"
   ]
  },
  {
   "cell_type": "markdown",
   "metadata": {},
   "source": [
    "Si comparamos los tipos asignados con los numéricos, vemos que además del **Rating (Out of 5)**  y **Average Battery Life** también deberían ser numéricos **Selling Price**, **Original Price** y **Reviews**\n",
    "\n",
    "Si buscamos precios de los trackers en internet, nos daremos cuenta de que su precio de venta se corresponde con el de la India (está en Rupias), y esto confirma que **los precios con los que tratamos son números enteros**.\n",
    "\n",
    "Convertimos las observaciones de las tres variables a numérico, eliminando las comas de miles:"
   ]
  },
  {
   "cell_type": "code",
   "execution_count": 26,
   "metadata": {},
   "outputs": [],
   "source": [
    "datos[\"Selling Price\"] = pd.to_numeric(datos[\"Selling Price\"].str.replace(',',''))\n",
    "datos[\"Original Price\"] = pd.to_numeric(datos[\"Original Price\"].str.replace(',',''))\n",
    "datos[\"Reviews\"] = pd.to_numeric(datos[\"Reviews\"].str.replace(',',''))"
   ]
  },
  {
   "cell_type": "markdown",
   "metadata": {},
   "source": [
    "Confirmamos que las conversiones son correctas:"
   ]
  },
  {
   "cell_type": "code",
   "execution_count": 27,
   "metadata": {},
   "outputs": [
    {
     "data": {
      "text/html": [
       "<div>\n",
       "<style scoped>\n",
       "    .dataframe tbody tr th:only-of-type {\n",
       "        vertical-align: middle;\n",
       "    }\n",
       "\n",
       "    .dataframe tbody tr th {\n",
       "        vertical-align: top;\n",
       "    }\n",
       "\n",
       "    .dataframe thead th {\n",
       "        text-align: right;\n",
       "    }\n",
       "</style>\n",
       "<table border=\"1\" class=\"dataframe\">\n",
       "  <thead>\n",
       "    <tr style=\"text-align: right;\">\n",
       "      <th></th>\n",
       "      <th>Brand Name</th>\n",
       "      <th>Device Type</th>\n",
       "      <th>Model Name</th>\n",
       "      <th>Color</th>\n",
       "      <th>Selling Price</th>\n",
       "      <th>Original Price</th>\n",
       "      <th>Display</th>\n",
       "      <th>Rating (Out of 5)</th>\n",
       "      <th>Strap Material</th>\n",
       "      <th>Average Battery Life (in days)</th>\n",
       "      <th>Reviews</th>\n",
       "    </tr>\n",
       "  </thead>\n",
       "  <tbody>\n",
       "    <tr>\n",
       "      <th>0</th>\n",
       "      <td>Xiaomi</td>\n",
       "      <td>FitnessBand</td>\n",
       "      <td>Smart Band 5</td>\n",
       "      <td>Black</td>\n",
       "      <td>2499</td>\n",
       "      <td>2999</td>\n",
       "      <td>AMOLED Display</td>\n",
       "      <td>4.1</td>\n",
       "      <td>Thermoplastic polyurethane</td>\n",
       "      <td>14</td>\n",
       "      <td>NaN</td>\n",
       "    </tr>\n",
       "    <tr>\n",
       "      <th>1</th>\n",
       "      <td>Xiaomi</td>\n",
       "      <td>FitnessBand</td>\n",
       "      <td>Smart Band 4</td>\n",
       "      <td>Black</td>\n",
       "      <td>2099</td>\n",
       "      <td>2499</td>\n",
       "      <td>AMOLED Display</td>\n",
       "      <td>4.2</td>\n",
       "      <td>Thermoplastic polyurethane</td>\n",
       "      <td>14</td>\n",
       "      <td>NaN</td>\n",
       "    </tr>\n",
       "    <tr>\n",
       "      <th>2</th>\n",
       "      <td>Xiaomi</td>\n",
       "      <td>FitnessBand</td>\n",
       "      <td>HMSH01GE</td>\n",
       "      <td>Black</td>\n",
       "      <td>1722</td>\n",
       "      <td>2099</td>\n",
       "      <td>LCD Display</td>\n",
       "      <td>3.5</td>\n",
       "      <td>Leather</td>\n",
       "      <td>14</td>\n",
       "      <td>NaN</td>\n",
       "    </tr>\n",
       "    <tr>\n",
       "      <th>3</th>\n",
       "      <td>Xiaomi</td>\n",
       "      <td>FitnessBand</td>\n",
       "      <td>Smart Band 5</td>\n",
       "      <td>Black</td>\n",
       "      <td>2469</td>\n",
       "      <td>2999</td>\n",
       "      <td>AMOLED Display</td>\n",
       "      <td>4.1</td>\n",
       "      <td>Thermoplastic polyurethane</td>\n",
       "      <td>14</td>\n",
       "      <td>NaN</td>\n",
       "    </tr>\n",
       "    <tr>\n",
       "      <th>4</th>\n",
       "      <td>Xiaomi</td>\n",
       "      <td>FitnessBand</td>\n",
       "      <td>Band 3</td>\n",
       "      <td>Black</td>\n",
       "      <td>1799</td>\n",
       "      <td>2199</td>\n",
       "      <td>OLED Display</td>\n",
       "      <td>4.3</td>\n",
       "      <td>Plastic</td>\n",
       "      <td>7</td>\n",
       "      <td>NaN</td>\n",
       "    </tr>\n",
       "    <tr>\n",
       "      <th>5</th>\n",
       "      <td>Xiaomi</td>\n",
       "      <td>FitnessBand</td>\n",
       "      <td>Band - HRX Edition</td>\n",
       "      <td>Black</td>\n",
       "      <td>1299</td>\n",
       "      <td>1799</td>\n",
       "      <td>OLED Display</td>\n",
       "      <td>4.2</td>\n",
       "      <td>Plastic</td>\n",
       "      <td>20</td>\n",
       "      <td>NaN</td>\n",
       "    </tr>\n",
       "    <tr>\n",
       "      <th>6</th>\n",
       "      <td>Xiaomi</td>\n",
       "      <td>FitnessBand</td>\n",
       "      <td>Band 2</td>\n",
       "      <td>Black</td>\n",
       "      <td>2499</td>\n",
       "      <td>2499</td>\n",
       "      <td>OLED Display</td>\n",
       "      <td>4.3</td>\n",
       "      <td>Plastic</td>\n",
       "      <td>7</td>\n",
       "      <td>NaN</td>\n",
       "    </tr>\n",
       "    <tr>\n",
       "      <th>7</th>\n",
       "      <td>Xiaomi</td>\n",
       "      <td>Smartwatch</td>\n",
       "      <td>Revolve</td>\n",
       "      <td>Black</td>\n",
       "      <td>12349</td>\n",
       "      <td>15999</td>\n",
       "      <td>AMOLED Display</td>\n",
       "      <td>4.4</td>\n",
       "      <td>Silicone</td>\n",
       "      <td>14</td>\n",
       "      <td>2.0</td>\n",
       "    </tr>\n",
       "    <tr>\n",
       "      <th>8</th>\n",
       "      <td>Xiaomi</td>\n",
       "      <td>Smartwatch</td>\n",
       "      <td>RevolveActive</td>\n",
       "      <td>Black</td>\n",
       "      <td>12999</td>\n",
       "      <td>15999</td>\n",
       "      <td>AMOLED Display</td>\n",
       "      <td>4.4</td>\n",
       "      <td>Silicone</td>\n",
       "      <td>14</td>\n",
       "      <td>3.0</td>\n",
       "    </tr>\n",
       "    <tr>\n",
       "      <th>9</th>\n",
       "      <td>Xiaomi</td>\n",
       "      <td>FitnessBand</td>\n",
       "      <td>Smart Band 3i</td>\n",
       "      <td>Black</td>\n",
       "      <td>1270</td>\n",
       "      <td>1599</td>\n",
       "      <td>OLED Display</td>\n",
       "      <td>4.2</td>\n",
       "      <td>Thermoplastic polyurethane</td>\n",
       "      <td>7</td>\n",
       "      <td>NaN</td>\n",
       "    </tr>\n",
       "  </tbody>\n",
       "</table>\n",
       "</div>"
      ],
      "text/plain": [
       "  Brand Name  Device Type          Model Name  Color  Selling Price  \\\n",
       "0     Xiaomi  FitnessBand        Smart Band 5  Black           2499   \n",
       "1     Xiaomi  FitnessBand        Smart Band 4  Black           2099   \n",
       "2     Xiaomi  FitnessBand            HMSH01GE  Black           1722   \n",
       "3     Xiaomi  FitnessBand        Smart Band 5  Black           2469   \n",
       "4     Xiaomi  FitnessBand              Band 3  Black           1799   \n",
       "5     Xiaomi  FitnessBand  Band - HRX Edition  Black           1299   \n",
       "6     Xiaomi  FitnessBand              Band 2  Black           2499   \n",
       "7     Xiaomi   Smartwatch             Revolve  Black          12349   \n",
       "8     Xiaomi   Smartwatch       RevolveActive  Black          12999   \n",
       "9     Xiaomi  FitnessBand       Smart Band 3i  Black           1270   \n",
       "\n",
       "   Original Price         Display  Rating (Out of 5)  \\\n",
       "0            2999  AMOLED Display                4.1   \n",
       "1            2499  AMOLED Display                4.2   \n",
       "2            2099     LCD Display                3.5   \n",
       "3            2999  AMOLED Display                4.1   \n",
       "4            2199    OLED Display                4.3   \n",
       "5            1799    OLED Display                4.2   \n",
       "6            2499    OLED Display                4.3   \n",
       "7           15999  AMOLED Display                4.4   \n",
       "8           15999  AMOLED Display                4.4   \n",
       "9            1599    OLED Display                4.2   \n",
       "\n",
       "               Strap Material  Average Battery Life (in days)  Reviews  \n",
       "0  Thermoplastic polyurethane                              14      NaN  \n",
       "1  Thermoplastic polyurethane                              14      NaN  \n",
       "2                     Leather                              14      NaN  \n",
       "3  Thermoplastic polyurethane                              14      NaN  \n",
       "4                     Plastic                               7      NaN  \n",
       "5                     Plastic                              20      NaN  \n",
       "6                     Plastic                               7      NaN  \n",
       "7                    Silicone                              14      2.0  \n",
       "8                    Silicone                              14      3.0  \n",
       "9  Thermoplastic polyurethane                               7      NaN  "
      ]
     },
     "execution_count": 27,
     "metadata": {},
     "output_type": "execute_result"
    }
   ],
   "source": [
    "datos.head(10)"
   ]
  },
  {
   "cell_type": "code",
   "execution_count": 32,
   "metadata": {},
   "outputs": [
    {
     "data": {
      "text/plain": [
       "Brand Name                         object\n",
       "Device Type                        object\n",
       "Model Name                         object\n",
       "Color                              object\n",
       "Selling Price                       int64\n",
       "Original Price                      int64\n",
       "Display                            object\n",
       "Rating (Out of 5)                 float64\n",
       "Strap Material                     object\n",
       "Average Battery Life (in days)      int64\n",
       "Reviews                           float64\n",
       "dtype: object"
      ]
     },
     "execution_count": 32,
     "metadata": {},
     "output_type": "execute_result"
    }
   ],
   "source": [
    "datos.dtypes"
   ]
  },
  {
   "cell_type": "code",
   "execution_count": 38,
   "metadata": {},
   "outputs": [
    {
     "data": {
      "text/html": [
       "<div>\n",
       "<style scoped>\n",
       "    .dataframe tbody tr th:only-of-type {\n",
       "        vertical-align: middle;\n",
       "    }\n",
       "\n",
       "    .dataframe tbody tr th {\n",
       "        vertical-align: top;\n",
       "    }\n",
       "\n",
       "    .dataframe thead th {\n",
       "        text-align: right;\n",
       "    }\n",
       "</style>\n",
       "<table border=\"1\" class=\"dataframe\">\n",
       "  <thead>\n",
       "    <tr style=\"text-align: right;\">\n",
       "      <th></th>\n",
       "      <th>Selling Price</th>\n",
       "      <th>Original Price</th>\n",
       "      <th>Rating (Out of 5)</th>\n",
       "      <th>Average Battery Life (in days)</th>\n",
       "      <th>Reviews</th>\n",
       "    </tr>\n",
       "    <tr>\n",
       "      <th>Valor</th>\n",
       "      <th></th>\n",
       "      <th></th>\n",
       "      <th></th>\n",
       "      <th></th>\n",
       "      <th></th>\n",
       "    </tr>\n",
       "  </thead>\n",
       "  <tbody>\n",
       "    <tr>\n",
       "      <th>Media</th>\n",
       "      <td>22110.373</td>\n",
       "      <td>25365.361</td>\n",
       "      <td>4.230</td>\n",
       "      <td>9.027</td>\n",
       "      <td>2492.949</td>\n",
       "    </tr>\n",
       "    <tr>\n",
       "      <th>Desviación Estándar</th>\n",
       "      <td>19914.926</td>\n",
       "      <td>20384.029</td>\n",
       "      <td>0.391</td>\n",
       "      <td>7.869</td>\n",
       "      <td>5607.530</td>\n",
       "    </tr>\n",
       "    <tr>\n",
       "      <th>Mínimo</th>\n",
       "      <td>1195.000</td>\n",
       "      <td>1599.000</td>\n",
       "      <td>2.000</td>\n",
       "      <td>1.000</td>\n",
       "      <td>2.000</td>\n",
       "    </tr>\n",
       "    <tr>\n",
       "      <th>Máximo</th>\n",
       "      <td>122090.000</td>\n",
       "      <td>122090.000</td>\n",
       "      <td>5.000</td>\n",
       "      <td>45.000</td>\n",
       "      <td>23426.000</td>\n",
       "    </tr>\n",
       "  </tbody>\n",
       "</table>\n",
       "</div>"
      ],
      "text/plain": [
       "                     Selling Price  Original Price  Rating (Out of 5)  \\\n",
       "Valor                                                                   \n",
       "Media                    22110.373       25365.361              4.230   \n",
       "Desviación Estándar      19914.926       20384.029              0.391   \n",
       "Mínimo                    1195.000        1599.000              2.000   \n",
       "Máximo                  122090.000      122090.000              5.000   \n",
       "\n",
       "                     Average Battery Life (in days)    Reviews  \n",
       "Valor                                                           \n",
       "Media                                         9.027   2492.949  \n",
       "Desviación Estándar                           7.869   5607.530  \n",
       "Mínimo                                        1.000      2.000  \n",
       "Máximo                                       45.000  23426.000  "
      ]
     },
     "execution_count": 38,
     "metadata": {},
     "output_type": "execute_result"
    }
   ],
   "source": [
    "variablesNumericas = datos._get_numeric_data()\n",
    "mediaNumericas = round(variablesNumericas.mean(), 3) # No hay que preocuparse por los NaN, puesto que quedan excluídos del cálculo\n",
    "stdNumericas = round(variablesNumericas.std(), 3)\n",
    "minNumericas = round(variablesNumericas.min(), 3)\n",
    "maxNumericas = round(variablesNumericas.max(), 3)\n",
    "\n",
    "valoresInteres = pd.DataFrame([mediaNumericas,stdNumericas,minNumericas,maxNumericas], columns=[\"Selling Price\",\"Original Price\", \"Rating (Out of 5)\", \"Average Battery Life (in days)\", \"Reviews\"])\n",
    "valoresInteres[\"Valor\"] = [\"Media\", \"Desviación Estándar\", \"Mínimo\", \"Máximo\"]\n",
    "valoresInteres.set_index(\"Valor\", inplace = True)\n",
    "\n",
    "valoresInteres"
   ]
  },
  {
   "cell_type": "markdown",
   "metadata": {},
   "source": [
    "### 2. Hay datos que nos interesa analizar basándonos en agrupaciones, para darle un sentido a nuestro análisis en base a esa agrupación. Basándonos en las siguientes agrupaciones:\n",
    "* Por tipo de dispositivo\n",
    "\n"
   ]
  },
  {
   "cell_type": "code",
   "execution_count": null,
   "metadata": {},
   "outputs": [],
   "source": [
    "tiposDisp = list(set(datos[\"Device Type\"]))\n",
    "print(tiposDisp)"
   ]
  },
  {
   "cell_type": "markdown",
   "metadata": {},
   "source": [
    "* Por precio de venta. Estableceremos cuatro grupos en base a la media del precio de venta de cada tipo de dispositivo:\n",
    " * Smartwatches con un precio inferior o igual a la media de precios de venta de estos dispositivos\n",
    " * Smartwatches con un precio superior a la media de precios de venta de estos dispositivos\n",
    " * Fitnessbands con un precio inferior o igual a la media de precios de venta de estos dispositivos\n",
    " * Fitnessbands con un precio superior a la media de precios de venta de estos dispositivos"
   ]
  },
  {
   "cell_type": "code",
   "execution_count": null,
   "metadata": {},
   "outputs": [],
   "source": [
    "# Precio medio de un Smartwatch:\n",
    "\n",
    "swMedia = datos.loc[datos[\"Device Type\"]==\"Smartwatch\", \"Selling Price\"].mean()\n",
    "\n",
    "# Precio medio de una FitnessBand:\n",
    "\n",
    "fbMedia = datos.loc[datos[\"Device Type\"]==\"FitnessBand\", \"Selling Price\"].mean()\n",
    "\n",
    "\n",
    "# Condiciones a cumplir:\n",
    "\n",
    "swBajoMedia = (datos[\"Selling Price\"] <= swMedia) & (datos[\"Device Type\"] == \"Smartwatch\")\n",
    "swSobreMedia = (datos[\"Selling Price\"] > swMedia) & (datos[\"Device Type\"] == \"Smartwatch\")\n",
    "fbBajoMedia = (datos[\"Selling Price\"] <= fbMedia) & (datos[\"Device Type\"] == \"FitnessBand\")\n",
    "fbSobreMedia = (datos[\"Selling Price\"] > fbMedia) & (datos[\"Device Type\"] == \"FitnessBand\")"
   ]
  },
  {
   "cell_type": "markdown",
   "metadata": {},
   "source": [
    "* Por marca"
   ]
  },
  {
   "cell_type": "code",
   "execution_count": null,
   "metadata": {},
   "outputs": [],
   "source": [
    "marcas = list(set(datos[\"Brand Name\"]))\n",
    "print(marcas)"
   ]
  },
  {
   "cell_type": "markdown",
   "metadata": {},
   "source": [
    "Hay una marca, \"Noise\", duplicada con espacio, que tendremos que arreglar:"
   ]
  },
  {
   "cell_type": "code",
   "execution_count": null,
   "metadata": {},
   "outputs": [],
   "source": [
    "# TODO: haz un mejor data wrangling: quita espacios tras las marcas y todo a minúsculas\n",
    "\n",
    "datos.loc[datos[\"Brand Name\"]==\"Noise \",\"Brand Name\"] = \"Noise\"\n",
    "\n",
    "marcas = list(set(datos[\"Brand Name\"]))\n",
    "print(marcas)"
   ]
  },
  {
   "cell_type": "markdown",
   "metadata": {},
   "source": [
    "Calcula los siguientes estadísticos en base a cada una de las agrupaciones definidas previamente con respecto a las variables selling price, original price, rating, average battery life in days y reviews:\n",
    "\n"
   ]
  },
  {
   "cell_type": "code",
   "execution_count": null,
   "metadata": {},
   "outputs": [],
   "source": [
    "datosFilt = datos[[\"Device Type\", \"Selling Price\", \"Original Price\", \"Rating (Out of 5)\", \"Average Battery Life (in days)\", \"Reviews\"]]"
   ]
  },
  {
   "cell_type": "markdown",
   "metadata": {},
   "source": [
    "* Número de observaciones"
   ]
  },
  {
   "cell_type": "code",
   "execution_count": null,
   "metadata": {
    "scrolled": true
   },
   "outputs": [],
   "source": [
    "# Por tipo de dispositivo\n",
    "\n",
    "print(\"Número de observaciones por dispositivo:\")\n",
    "\n",
    "datosPorTipo = datosFilt.groupby(\"Device Type\").count()\n",
    "datosPorTipo"
   ]
  },
  {
   "cell_type": "code",
   "execution_count": null,
   "metadata": {},
   "outputs": [],
   "source": [
    "# Por precio de venta\n",
    "print(\"Número de observaciones por precio de venta:\")\n",
    "\n",
    "datosswBajoMedia = datosFilt.loc[swBajoMedia].groupby(\"Device Type\").count()\n",
    "datosswBajoMedia.rename(index={'Smartwatch': 'Smartwatches bajo precio medio'}, inplace=True)\n",
    "\n",
    "datosswSobreMedia = datosFilt.loc[swSobreMedia].groupby(\"Device Type\").count()\n",
    "datosswSobreMedia.rename(index={'Smartwatch': 'Smartwatches sobre precio medio'}, inplace=True)\n",
    "\n",
    "datosfbBajoMedia = datosFilt.loc[fbBajoMedia].groupby(\"Device Type\").count()\n",
    "datosfbBajoMedia.rename(index={'FitnessBand': 'FitnessBands bajo precio medio'}, inplace=True)\n",
    "\n",
    "datosfbSobreMedia = datosFilt.loc[fbSobreMedia].groupby(\"Device Type\").count()\n",
    "datosfbSobreMedia.rename(index={'FitnessBand': 'FitnessBands sobre precio medio'}, inplace=True)\n",
    "\n",
    "datosPorPrecio = datosswBajoMedia.append(datosswSobreMedia).append(datosfbBajoMedia).append(datosfbSobreMedia)\n",
    "datosPorPrecio.index.names = ['Grupos por precio de venta']\n",
    "\n",
    "datosPorPrecio"
   ]
  },
  {
   "cell_type": "markdown",
   "metadata": {},
   "source": [
    "La categoría \"FitnessBand prices above mean\" no aparece dado que no existe ninguna FitnessBand en el dataset cuyo precio sea superior al precio medio:"
   ]
  },
  {
   "cell_type": "code",
   "execution_count": null,
   "metadata": {},
   "outputs": [],
   "source": [
    "datosfbSobreMedia = datosFilt.loc[fbSobreMedia].count()\n",
    "datosfbSobreMedia"
   ]
  },
  {
   "cell_type": "code",
   "execution_count": null,
   "metadata": {},
   "outputs": [],
   "source": [
    "# Por marca\n",
    "print(\"Número de observaciones por marca:\")    \n",
    "datosMarca = datos[[\"Brand Name\", \"Selling Price\", \"Original Price\", \"Rating (Out of 5)\", \"Average Battery Life (in days)\", \"Reviews\"]].groupby(\"Brand Name\").count()\n",
    "datosMarca"
   ]
  },
  {
   "cell_type": "markdown",
   "metadata": {},
   "source": [
    "* Número de valores ausentes (missing)"
   ]
  },
  {
   "cell_type": "code",
   "execution_count": null,
   "metadata": {},
   "outputs": [],
   "source": [
    "#Por tipo de dispositivo\n",
    "\n",
    "print(\"Número de ausencias por dispositivo:\")\n",
    "    \n",
    "ausentesPorTipo = datosFilt.set_index(\"Device Type\")\n",
    "ausentesPorTipo = ausentesPorTipo.isna().groupby(\"Device Type\").sum()\n",
    "ausentesPorTipo"
   ]
  },
  {
   "cell_type": "code",
   "execution_count": null,
   "metadata": {},
   "outputs": [],
   "source": [
    "# Por precio de venta\n",
    "print(\"Número de ausencias por precio de venta:\")\n",
    "\n",
    "# TODO: meter en un bucle (más elegante)\n",
    "\n",
    "ausentesswBajoMedia = datosFilt.loc[swBajoMedia]\n",
    "ausentesswBajoMedia = ausentesswBajoMedia.set_index(\"Device Type\")\n",
    "ausentesswBajoMedia = ausentesswBajoMedia.isna().groupby(\"Device Type\").sum()\n",
    "ausentesswBajoMedia.rename(index={'Smartwatch': 'Smartwatches bajo precio medio'}, inplace=True)\n",
    "\n",
    "ausentesswSobreMedia = datosFilt.loc[swSobreMedia]\n",
    "ausentesswSobreMedia = ausentesswSobreMedia.set_index(\"Device Type\")\n",
    "ausentesswSobreMedia = ausentesswSobreMedia.isna().groupby(\"Device Type\").sum()\n",
    "ausentesswSobreMedia.rename(index={'Smartwatch': 'Smartwatches sobre precio medio'}, inplace=True)\n",
    "\n",
    "ausentesfbBajoMedia = datosFilt.loc[fbBajoMedia]\n",
    "ausentesfbBajoMedia = ausentesfbBajoMedia.set_index(\"Device Type\")\n",
    "ausentesfbBajoMedia = ausentesfbBajoMedia.isna().groupby(\"Device Type\").sum()\n",
    "ausentesfbBajoMedia.rename(index={'FitnessBand': 'FitnessBands bajo precio medio'}, inplace=True)\n",
    "\n",
    "ausentesfbSobreMedia = datosFilt.loc[fbSobreMedia]\n",
    "ausentesfbSobreMedia = ausentesfbSobreMedia.set_index(\"Device Type\")\n",
    "ausentesfbSobreMedia = ausentesfbSobreMedia.isna().groupby(\"Device Type\").sum()\n",
    "ausentesfbSobreMedia.rename(index={'FitnessBand': 'FitnessBands sobre precio medio'}, inplace=True)\n",
    "\n",
    "ausentesPorPrecio = ausentesswBajoMedia.append(ausentesswSobreMedia).append(ausentesfbBajoMedia).append(ausentesfbSobreMedia)\n",
    "ausentesPorPrecio.index.names = ['Ausentes agrupados por precio de venta']\n",
    "\n",
    "ausentesPorPrecio"
   ]
  },
  {
   "cell_type": "markdown",
   "metadata": {},
   "source": [
    "Igual que sucedió con los datos de FitnessBands con precio superior a la media, tampoco hay valores missing en la misma categoría:"
   ]
  },
  {
   "cell_type": "code",
   "execution_count": null,
   "metadata": {},
   "outputs": [],
   "source": [
    "ausentesfbSobreMedia = datosFilt.loc[fbSobreMedia].count()\n",
    "ausentesfbSobreMedia"
   ]
  },
  {
   "cell_type": "code",
   "execution_count": null,
   "metadata": {},
   "outputs": [],
   "source": [
    "# Por marca\n",
    "print(\"Número de ausencias por marca:\")\n",
    "\n",
    "datosMarca = datos[[\"Brand Name\", \"Selling Price\", \"Original Price\", \"Rating (Out of 5)\", \"Average Battery Life (in days)\", \"Reviews\"]]\n",
    "ausentesMarca = datosMarca.set_index(\"Brand Name\")\n",
    "ausentesMarca = ausentesMarca.isna().groupby(\"Brand Name\").sum()\n",
    "ausentesMarca\n"
   ]
  },
  {
   "cell_type": "markdown",
   "metadata": {},
   "source": [
    "* Mediana"
   ]
  },
  {
   "cell_type": "code",
   "execution_count": null,
   "metadata": {},
   "outputs": [],
   "source": [
    "# Por tipo de dispositivo\n",
    "\n",
    "medianaPorTipo = datosFilt.groupby(\"Device Type\").median()\n",
    "medianaPorTipo"
   ]
  },
  {
   "cell_type": "code",
   "execution_count": null,
   "metadata": {},
   "outputs": [],
   "source": [
    "# Por precio de venta\n",
    "print(\"Medianas por precio de venta:\")\n",
    "\n",
    "medianaswBajoMedia = datosFilt.loc[swBajoMedia].groupby(\"Device Type\").median()\n",
    "medianaswBajoMedia.rename(index={'Smartwatch': 'Smartwatches bajo precio medio'}, inplace=True)\n",
    "\n",
    "medianaswSobreMedia = datosFilt.loc[swSobreMedia].groupby(\"Device Type\").median()\n",
    "medianaswSobreMedia.rename(index={'Smartwatch': 'Smartwatches sobre precio medio'}, inplace=True)\n",
    "\n",
    "medianafbBajoMedia = datosFilt.loc[fbBajoMedia].groupby(\"Device Type\").median()\n",
    "medianafbBajoMedia.rename(index={'FitnessBand': 'FitnessBands bajo precio medio'}, inplace=True)\n",
    "\n",
    "medianafbSobreMedia = datosFilt.loc[fbSobreMedia].groupby(\"Device Type\").median()\n",
    "medianafbSobreMedia.rename(index={'FitnessBand': 'FitnessBands sobre precio medio'}, inplace=True)\n",
    "\n",
    "medianaPorPrecio = medianaswBajoMedia.append(medianaswSobreMedia).append(medianafbBajoMedia).append(medianafbSobreMedia)\n",
    "medianaPorPrecio.index.names = ['Grupos por precio de venta']\n",
    "\n",
    "medianaPorPrecio"
   ]
  },
  {
   "cell_type": "code",
   "execution_count": null,
   "metadata": {},
   "outputs": [],
   "source": [
    "# Por marca\n",
    "print(\"Medianas por marca:\")\n",
    "\n",
    "datosMarca = datos[[\"Brand Name\", \"Selling Price\", \"Original Price\", \"Rating (Out of 5)\", \"Average Battery Life (in days)\", \"Reviews\"]].groupby(\"Brand Name\").median()\n",
    "datosMarca"
   ]
  },
  {
   "cell_type": "markdown",
   "metadata": {},
   "source": [
    "* Varianza (calcularemos la desviación estándar, que es más útil. Calcular la varianza sería lo mismo cambiando \"std\" por \"var\")"
   ]
  },
  {
   "cell_type": "code",
   "execution_count": null,
   "metadata": {},
   "outputs": [],
   "source": [
    "# Por tipo de dispositivo\n",
    "\n",
    "stdPorTipo = round(datosFilt.groupby(\"Device Type\").std(), 3) # TODO preguntar si se quiere varianza o std\n",
    "stdPorTipo"
   ]
  },
  {
   "cell_type": "code",
   "execution_count": null,
   "metadata": {},
   "outputs": [],
   "source": [
    "# Por precio de venta\n",
    "print(\"Desviación estándar por precio de venta:\")\n",
    "\n",
    "stdswBajoMedia = round(datosFilt.loc[swBajoMedia].groupby(\"Device Type\").std(), 3)\n",
    "stdswBajoMedia.rename(index={'Smartwatch': 'Smartwatches bajo precio medio'}, inplace=True)\n",
    "\n",
    "stdswSobreMedia = round(datosFilt.loc[swSobreMedia].groupby(\"Device Type\").std(), 3)\n",
    "stdswSobreMedia.rename(index={'Smartwatch': 'Smartwatches sobre precio medio'}, inplace=True)\n",
    "\n",
    "stdfbBajoMedia = round(datosFilt.loc[fbBajoMedia].groupby(\"Device Type\").std(), 3)\n",
    "stdfbBajoMedia.rename(index={'FitnessBand': 'FitnessBands bajo precio medio'}, inplace=True)\n",
    "\n",
    "stdfbSobreMedia = round(datosFilt.loc[fbSobreMedia].groupby(\"Device Type\").std(), 3)\n",
    "stdfbSobreMedia.rename(index={'FitnessBand': 'FitnessBands sobre precio medio'}, inplace=True)\n",
    "\n",
    "stdPorPrecio = stdswBajoMedia.append(stdswSobreMedia).append(stdfbBajoMedia).append(stdfbSobreMedia)\n",
    "stdPorPrecio.index.names = ['Grupos por precio de venta']\n",
    "\n",
    "stdPorPrecio"
   ]
  },
  {
   "cell_type": "code",
   "execution_count": null,
   "metadata": {},
   "outputs": [],
   "source": [
    "# Por marca\n",
    "print(\"Desviaciones estándar por marca:\")\n",
    "\n",
    "datosMarca = round(datos[[\"Brand Name\", \"Selling Price\", \"Original Price\", \"Rating (Out of 5)\", \"Average Battery Life (in days)\", \"Reviews\"]].groupby(\"Brand Name\").std(), 3)\n",
    "datosMarca"
   ]
  },
  {
   "cell_type": "markdown",
   "metadata": {},
   "source": [
    "Comprobamos que las marcas Infinix y LAVA no tienen varianza asignada. Veamos si puede deberse a que no se puede calcular:"
   ]
  },
  {
   "cell_type": "code",
   "execution_count": null,
   "metadata": {},
   "outputs": [],
   "source": [
    "datos.loc[(datos[\"Brand Name\"]==\"Infinix\") | (datos[\"Brand Name\"]==\"LAVA\")]"
   ]
  },
  {
   "cell_type": "markdown",
   "metadata": {},
   "source": [
    "Efectivamente, estas marcas solo tienen un dispositivo."
   ]
  },
  {
   "cell_type": "markdown",
   "metadata": {},
   "source": [
    "* Valores máximo y mínimo"
   ]
  },
  {
   "cell_type": "code",
   "execution_count": null,
   "metadata": {},
   "outputs": [],
   "source": [
    "# Por tipo de dispositivo\n",
    "print(\"Mínimo por tipo de dispositivo:\")\n",
    "minPorTipo = datosFilt.groupby(\"Device Type\").min() # TODO preguntar si se quiere varianza o std\n",
    "minPorTipo"
   ]
  },
  {
   "cell_type": "code",
   "execution_count": null,
   "metadata": {},
   "outputs": [],
   "source": [
    "print(\"Máximo por tipo de dispositivo:\")\n",
    "minPorTipo = datosFilt.groupby(\"Device Type\").max() # TODO preguntar si se quiere varianza o std\n",
    "minPorTipo"
   ]
  },
  {
   "cell_type": "code",
   "execution_count": null,
   "metadata": {},
   "outputs": [],
   "source": [
    "# Por precio de venta\n",
    "print(\"Mínimos por precio de venta:\")\n",
    "\n",
    "minswBajoMedia = round(datosFilt.loc[swBajoMedia].groupby(\"Device Type\").min(), 3)\n",
    "minswBajoMedia.rename(index={'Smartwatch': 'Smartwatches bajo precio medio'}, inplace=True)\n",
    "\n",
    "minswSobreMedia = round(datosFilt.loc[swSobreMedia].groupby(\"Device Type\").min(), 3)\n",
    "minswSobreMedia.rename(index={'Smartwatch': 'Smartwatches sobre precio medio'}, inplace=True)\n",
    "\n",
    "minfbBajoMedia = round(datosFilt.loc[fbBajoMedia].groupby(\"Device Type\").min(), 3)\n",
    "minfbBajoMedia.rename(index={'FitnessBand': 'FitnessBands bajo precio medio'}, inplace=True)\n",
    "\n",
    "minfbSobreMedia = round(datosFilt.loc[fbSobreMedia].groupby(\"Device Type\").min(), 3)\n",
    "minfbSobreMedia.rename(index={'FitnessBand': 'FitnessBands sobre precio medio'}, inplace=True)\n",
    "\n",
    "minPorPrecio = minswBajoMedia.append(minswSobreMedia).append(minfbBajoMedia).append(minfbSobreMedia)\n",
    "minPorPrecio.index.names = ['Grupos por precio de venta']\n",
    "\n",
    "minPorPrecio"
   ]
  },
  {
   "cell_type": "code",
   "execution_count": null,
   "metadata": {},
   "outputs": [],
   "source": [
    "print(\"Máximos por precio de venta:\")\n",
    "\n",
    "maxswBajoMedia = round(datosFilt.loc[swBajoMedia].groupby(\"Device Type\").max(), 3)\n",
    "maxswBajoMedia.rename(index={'Smartwatch': 'Smartwatches bajo precio medio'}, inplace=True)\n",
    "\n",
    "maxswSobreMedia = round(datosFilt.loc[swSobreMedia].groupby(\"Device Type\").max(), 3)\n",
    "maxswSobreMedia.rename(index={'Smartwatch': 'Smartwatches sobre precio medio'}, inplace=True)\n",
    "\n",
    "maxfbBajoMedia = round(datosFilt.loc[fbBajoMedia].groupby(\"Device Type\").max(), 3)\n",
    "maxfbBajoMedia.rename(index={'FitnessBand': 'FitnessBands bajo precio medio'}, inplace=True)\n",
    "\n",
    "maxfbSobreMedia = round(datosFilt.loc[fbSobreMedia].groupby(\"Device Type\").max(), 3)\n",
    "maxfbSobreMedia.rename(index={'FitnessBand': 'FitnessBands sobre precio medio'}, inplace=True)\n",
    "\n",
    "maxPorPrecio = maxswBajoMedia.append(maxswSobreMedia).append(maxfbBajoMedia).append(maxfbSobreMedia)\n",
    "maxPorPrecio.index.names = ['Grupos por precio de venta']\n",
    "\n",
    "maxPorPrecio"
   ]
  },
  {
   "cell_type": "markdown",
   "metadata": {},
   "source": [
    "TODO: Conclusiones"
   ]
  },
  {
   "cell_type": "markdown",
   "metadata": {},
   "source": [
    "## 3. Selecciona los dispositivos en los que la ratio de la duración de la batería con respecto al precio sea superior a la media de ratio de duración, que también debe calcularse. Comenta los resultados obtenidos."
   ]
  },
  {
   "cell_type": "code",
   "execution_count": null,
   "metadata": {},
   "outputs": [],
   "source": [
    "ratio_duracion_precio = list(datos[\"Average Battery Life (in days)\"]*1000/datos[\"Original Price\"])\n",
    "\n",
    "datos.insert(10,\"Ratio\", ratio_duracion_precio,allow_duplicates=True)\n",
    "datos.head()"
   ]
  },
  {
   "cell_type": "code",
   "execution_count": null,
   "metadata": {},
   "outputs": [],
   "source": [
    "mediaRatio = datos[\"Ratio\"].mean()\n",
    "datosSobreRatio = datos.loc[datos[\"Ratio\"]>mediaRatio]"
   ]
  },
  {
   "cell_type": "code",
   "execution_count": null,
   "metadata": {},
   "outputs": [],
   "source": [
    "datosSobreRatio.groupby(\"Device Type\").count()[\"Model Name\"]"
   ]
  },
  {
   "cell_type": "markdown",
   "metadata": {},
   "source": [
    "En proporción, un mayor porcentaje de FitnessBand tienen rendimiento de batería por dólar superior a la media. #TODO: Desarrollar"
   ]
  },
  {
   "cell_type": "markdown",
   "metadata": {},
   "source": [
    "## 4. Ordena los dispositivos en base a la ratio calculada (de mayor a menor). ¿En qué dispositivos hay una mayor relación duración / precio? ¿Cuál es la marca que más relaciona el precio de venta con la duración de la batería?"
   ]
  },
  {
   "cell_type": "code",
   "execution_count": null,
   "metadata": {},
   "outputs": [],
   "source": [
    "datosOrdenPorRatio = datos[[\"Brand Name\", \"Device Type\", \"Model Name\", \"Ratio\"]].sort_values(by=['Ratio'], ascending = False)\n",
    "datosOrdenPorRatio.head(20)"
   ]
  },
  {
   "cell_type": "code",
   "execution_count": null,
   "metadata": {},
   "outputs": [],
   "source": [
    "datosOrdenPorRatio.groupby(\"Device Type\").mean()"
   ]
  },
  {
   "cell_type": "markdown",
   "metadata": {},
   "source": [
    "En general Las FitnessBand tienen un promedio de Ratio muy superior al de los Smartwatches."
   ]
  },
  {
   "cell_type": "code",
   "execution_count": null,
   "metadata": {},
   "outputs": [],
   "source": [
    "datosOrdenPorRatio.groupby(\"Brand Name\").mean().sort_values(by=['Ratio'], ascending = False)"
   ]
  },
  {
   "cell_type": "markdown",
   "metadata": {},
   "source": [
    "La marca que proporciona más Ratio medio es Xiaomi, y la que menos Apple."
   ]
  },
  {
   "cell_type": "markdown",
   "metadata": {},
   "source": [
    "### 5. Obtén el total de ingresos por la venta de estos dispositivos para cada una de las marcas que aparecen en el conjunto de datos."
   ]
  },
  {
   "cell_type": "code",
   "execution_count": null,
   "metadata": {},
   "outputs": [],
   "source": [
    "totalByBrand = datos[[\"Brand Name\", \"Selling Price\"]].groupby(\"Brand Name\").sum().sort_values(by=[\"Selling Price\"], ascending = False).rename({\"Selling Price\":\"Total Income\"}, axis=\"columns\")\n",
    "totalByBrand #TODO Preguntar qué es mejor: eficiencia o legibilidad"
   ]
  },
  {
   "cell_type": "markdown",
   "metadata": {},
   "source": [
    "La marca que más dinero gana es Apple."
   ]
  }
 ],
 "metadata": {
  "kernelspec": {
   "display_name": "Python 3 (ipykernel)",
   "language": "python",
   "name": "python3"
  },
  "language_info": {
   "codemirror_mode": {
    "name": "ipython",
    "version": 3
   },
   "file_extension": ".py",
   "mimetype": "text/x-python",
   "name": "python",
   "nbconvert_exporter": "python",
   "pygments_lexer": "ipython3",
   "version": "3.9.5"
  }
 },
 "nbformat": 4,
 "nbformat_minor": 4
}
